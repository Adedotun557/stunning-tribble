{
  "nbformat": 4,
  "nbformat_minor": 0,
  "metadata": {
    "colab": {
      "provenance": [],
      "authorship_tag": "ABX9TyM37PhewKf6pJ+Hnp1OLJwW",
      "include_colab_link": true
    },
    "kernelspec": {
      "name": "python3",
      "display_name": "Python 3"
    },
    "language_info": {
      "name": "python"
    }
  },
  "cells": [
    {
      "cell_type": "markdown",
      "metadata": {
        "id": "view-in-github",
        "colab_type": "text"
      },
      "source": [
        "<a href=\"https://colab.research.google.com/github/Adedotun557/stunning-tribble/blob/main/Copy_of_SKILLUP_TASK_1.ipynb\" target=\"_parent\"><img src=\"https://colab.research.google.com/assets/colab-badge.svg\" alt=\"Open In Colab\"/></a>"
      ]
    },
    {
      "cell_type": "code",
      "execution_count": null,
      "metadata": {
        "colab": {
          "base_uri": "https://localhost:8080/"
        },
        "id": "bPT5maNsWQk5",
        "outputId": "620c3294-b088-43c1-b39e-af7913fe3313"
      },
      "outputs": [
        {
          "output_type": "stream",
          "name": "stdout",
          "text": [
            "Adedotun\n",
            "Omidiji\n",
            "Music\n",
            "Playing Chess\n",
            "Data Analyst\n"
          ]
        }
      ],
      "source": [
        "#Assignment\n",
        "\n",
        "#Creating List With Five Elements\n",
        "Myperson = ['First Name', 'Last Name', 'Interest', 'Hobby', 'Ocupation']\n",
        "\n",
        "Myperson = ['Adedotun', 'Omidiji', 'Music', 'Playing Chess', 'Data Analyst']\n",
        "for details in Myperson:\n",
        "    print(details)"
      ]
    },
    {
      "cell_type": "code",
      "source": [
        "#data type of each element\n",
        "type(Myperson[0])"
      ],
      "metadata": {
        "colab": {
          "base_uri": "https://localhost:8080/"
        },
        "id": "7T0cPBxJZWrN",
        "outputId": "aec13e3c-a5c1-4998-ac71-3732800a5d81"
      },
      "execution_count": null,
      "outputs": [
        {
          "output_type": "execute_result",
          "data": {
            "text/plain": [
              "str"
            ]
          },
          "metadata": {},
          "execution_count": 5
        }
      ]
    },
    {
      "cell_type": "code",
      "source": [
        "#data type of each element\n",
        "type(Myperson[1])"
      ],
      "metadata": {
        "colab": {
          "base_uri": "https://localhost:8080/"
        },
        "id": "chtLH4FBajD_",
        "outputId": "2912e835-6303-436d-c8af-77d97c5b1abe"
      },
      "execution_count": null,
      "outputs": [
        {
          "output_type": "execute_result",
          "data": {
            "text/plain": [
              "str"
            ]
          },
          "metadata": {},
          "execution_count": 6
        }
      ]
    },
    {
      "cell_type": "code",
      "source": [
        "#data type of each element\n",
        "type(Myperson[2])"
      ],
      "metadata": {
        "colab": {
          "base_uri": "https://localhost:8080/"
        },
        "id": "rD0GZ6KIaleW",
        "outputId": "be449a6f-e03f-40fe-c50d-85c87753c13d"
      },
      "execution_count": null,
      "outputs": [
        {
          "output_type": "execute_result",
          "data": {
            "text/plain": [
              "str"
            ]
          },
          "metadata": {},
          "execution_count": 7
        }
      ]
    },
    {
      "cell_type": "code",
      "source": [
        "#data type of each element\n",
        "type(Myperson[3])"
      ],
      "metadata": {
        "colab": {
          "base_uri": "https://localhost:8080/"
        },
        "id": "S2Kil4WeaoYf",
        "outputId": "9fbef9e2-5255-4039-bd05-ddfc6162d20f"
      },
      "execution_count": null,
      "outputs": [
        {
          "output_type": "execute_result",
          "data": {
            "text/plain": [
              "str"
            ]
          },
          "metadata": {},
          "execution_count": 8
        }
      ]
    },
    {
      "cell_type": "code",
      "source": [
        "#data type of each element\n",
        "type(Myperson[4])"
      ],
      "metadata": {
        "colab": {
          "base_uri": "https://localhost:8080/"
        },
        "id": "1gds3id1aqkj",
        "outputId": "eedce7a7-a8f2-44b3-b248-e8bc542a0909"
      },
      "execution_count": null,
      "outputs": [
        {
          "output_type": "execute_result",
          "data": {
            "text/plain": [
              "str"
            ]
          },
          "metadata": {},
          "execution_count": 9
        }
      ]
    },
    {
      "cell_type": "code",
      "source": [
        "#Adding New Element To The End of Existing List Without Affecting Others\n",
        "Myperson.append('Thanks To Skillup Africa')\n",
        "Myperson"
      ],
      "metadata": {
        "colab": {
          "base_uri": "https://localhost:8080/"
        },
        "id": "c3fd-sQqatsT",
        "outputId": "82a7a9a6-3be5-4813-d9ec-92ad1b3caeaf"
      },
      "execution_count": null,
      "outputs": [
        {
          "output_type": "execute_result",
          "data": {
            "text/plain": [
              "['Adedotun',\n",
              " 'Omidiji',\n",
              " 'Music',\n",
              " 'Playing Chess',\n",
              " 'Data Analyst',\n",
              " 'Thanks To Skillup Africa']"
            ]
          },
          "metadata": {},
          "execution_count": 10
        }
      ]
    },
    {
      "cell_type": "code",
      "source": [
        "#Adding New Element to The Second Position of the List Without Deleting Existing Element\n",
        "Myperson.insert(1, 'An Ambivert')\n",
        "Myperson"
      ],
      "metadata": {
        "colab": {
          "base_uri": "https://localhost:8080/"
        },
        "id": "Z8ljUWzEbGUF",
        "outputId": "a32f783e-e53b-4d10-aff2-865aeb0d3d6d"
      },
      "execution_count": null,
      "outputs": [
        {
          "output_type": "execute_result",
          "data": {
            "text/plain": [
              "['Adedotun',\n",
              " 'An Ambivert',\n",
              " 'Omidiji',\n",
              " 'Music',\n",
              " 'Playing Chess',\n",
              " 'Data Analyst',\n",
              " 'Thanks To Skillup Africa']"
            ]
          },
          "metadata": {},
          "execution_count": 11
        }
      ]
    },
    {
      "cell_type": "markdown",
      "source": [
        "# New Section"
      ],
      "metadata": {
        "id": "lf7gYsgYlTOr"
      }
    }
  ]
}